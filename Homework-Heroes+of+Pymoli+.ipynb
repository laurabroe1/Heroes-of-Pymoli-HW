{
 "cells": [
  {
   "cell_type": "code",
   "execution_count": 18,
   "metadata": {},
   "outputs": [
    {
     "ename": "NameError",
     "evalue": "name 'data' is not defined",
     "output_type": "error",
     "traceback": [
      "\u001b[1;31m---------------------------------------------------------------------------\u001b[0m",
      "\u001b[1;31mNameError\u001b[0m                                 Traceback (most recent call last)",
      "\u001b[1;32m<ipython-input-18-9ea4ed67b500>\u001b[0m in \u001b[0;36m<module>\u001b[1;34m()\u001b[0m\n\u001b[0;32m      1\u001b[0m \u001b[1;32mimport\u001b[0m \u001b[0mpandas\u001b[0m \u001b[1;32mas\u001b[0m \u001b[0mpd\u001b[0m\u001b[1;33m\u001b[0m\u001b[0m\n\u001b[0;32m      2\u001b[0m \u001b[1;32mimport\u001b[0m \u001b[0mnumpy\u001b[0m \u001b[1;32mas\u001b[0m \u001b[0mnp\u001b[0m\u001b[1;33m\u001b[0m\u001b[0m\n\u001b[1;32m----> 3\u001b[1;33m \u001b[0mprint\u001b[0m\u001b[1;33m(\u001b[0m\u001b[0mround\u001b[0m\u001b[1;33m(\u001b[0m\u001b[0mdata\u001b[0m\u001b[1;33m)\u001b[0m\u001b[1;33m)\u001b[0m\u001b[1;33m\u001b[0m\u001b[0m\n\u001b[0m",
      "\u001b[1;31mNameError\u001b[0m: name 'data' is not defined"
     ]
    }
   ],
   "source": [
    "import pandas as pd\n",
    "import numpy as np"
   ]
  },
  {
   "cell_type": "code",
   "execution_count": 5,
   "metadata": {
    "collapsed": true
   },
   "outputs": [],
   "source": [
    "purchase_data_df = '../Resources/purchase_data.json'"
   ]
  },
  {
   "cell_type": "code",
   "execution_count": 29,
   "metadata": {},
   "outputs": [],
   "source": [
    "purchase_data_df = \"purchase_data.json\"\n",
    "purchase_data_df = pd.read_json(purchase_data_df)"
   ]
  },
  {
   "cell_type": "code",
   "execution_count": 32,
   "metadata": {},
   "outputs": [
    {
     "data": {
      "text/html": [
       "<div>\n",
       "<style>\n",
       "    .dataframe thead tr:only-child th {\n",
       "        text-align: right;\n",
       "    }\n",
       "\n",
       "    .dataframe thead th {\n",
       "        text-align: left;\n",
       "    }\n",
       "\n",
       "    .dataframe tbody tr th {\n",
       "        vertical-align: top;\n",
       "    }\n",
       "</style>\n",
       "<table border=\"1\" class=\"dataframe\">\n",
       "  <thead>\n",
       "    <tr style=\"text-align: right;\">\n",
       "      <th></th>\n",
       "      <th>Age</th>\n",
       "      <th>Gender</th>\n",
       "      <th>Item ID</th>\n",
       "      <th>Item Name</th>\n",
       "      <th>Price</th>\n",
       "      <th>SN</th>\n",
       "    </tr>\n",
       "  </thead>\n",
       "  <tbody>\n",
       "    <tr>\n",
       "      <th>0</th>\n",
       "      <td>38</td>\n",
       "      <td>Male</td>\n",
       "      <td>165</td>\n",
       "      <td>Bone Crushing Silver Skewer</td>\n",
       "      <td>3.37</td>\n",
       "      <td>Aelalis34</td>\n",
       "    </tr>\n",
       "    <tr>\n",
       "      <th>1</th>\n",
       "      <td>21</td>\n",
       "      <td>Male</td>\n",
       "      <td>119</td>\n",
       "      <td>Stormbringer, Dark Blade of Ending Misery</td>\n",
       "      <td>2.32</td>\n",
       "      <td>Eolo46</td>\n",
       "    </tr>\n",
       "    <tr>\n",
       "      <th>2</th>\n",
       "      <td>34</td>\n",
       "      <td>Male</td>\n",
       "      <td>174</td>\n",
       "      <td>Primitive Blade</td>\n",
       "      <td>2.46</td>\n",
       "      <td>Assastnya25</td>\n",
       "    </tr>\n",
       "    <tr>\n",
       "      <th>3</th>\n",
       "      <td>21</td>\n",
       "      <td>Male</td>\n",
       "      <td>92</td>\n",
       "      <td>Final Critic</td>\n",
       "      <td>1.36</td>\n",
       "      <td>Pheusrical25</td>\n",
       "    </tr>\n",
       "    <tr>\n",
       "      <th>4</th>\n",
       "      <td>23</td>\n",
       "      <td>Male</td>\n",
       "      <td>63</td>\n",
       "      <td>Stormfury Mace</td>\n",
       "      <td>1.27</td>\n",
       "      <td>Aela59</td>\n",
       "    </tr>\n",
       "  </tbody>\n",
       "</table>\n",
       "</div>"
      ],
      "text/plain": [
       "   Age Gender  Item ID                                  Item Name  Price  \\\n",
       "0   38   Male      165                Bone Crushing Silver Skewer   3.37   \n",
       "1   21   Male      119  Stormbringer, Dark Blade of Ending Misery   2.32   \n",
       "2   34   Male      174                            Primitive Blade   2.46   \n",
       "3   21   Male       92                               Final Critic   1.36   \n",
       "4   23   Male       63                             Stormfury Mace   1.27   \n",
       "\n",
       "             SN  \n",
       "0     Aelalis34  \n",
       "1        Eolo46  \n",
       "2   Assastnya25  \n",
       "3  Pheusrical25  \n",
       "4        Aela59  "
      ]
     },
     "execution_count": 32,
     "metadata": {},
     "output_type": "execute_result"
    }
   ],
   "source": [
    "purchase_data_df.head(5)"
   ]
  },
  {
   "cell_type": "code",
   "execution_count": 33,
   "metadata": {},
   "outputs": [
    {
     "data": {
      "text/html": [
       "<div>\n",
       "<style>\n",
       "    .dataframe thead tr:only-child th {\n",
       "        text-align: right;\n",
       "    }\n",
       "\n",
       "    .dataframe thead th {\n",
       "        text-align: left;\n",
       "    }\n",
       "\n",
       "    .dataframe tbody tr th {\n",
       "        vertical-align: top;\n",
       "    }\n",
       "</style>\n",
       "<table border=\"1\" class=\"dataframe\">\n",
       "  <thead>\n",
       "    <tr style=\"text-align: right;\">\n",
       "      <th></th>\n",
       "      <th>Age</th>\n",
       "      <th>Item ID</th>\n",
       "      <th>Price</th>\n",
       "    </tr>\n",
       "  </thead>\n",
       "  <tbody>\n",
       "    <tr>\n",
       "      <th>count</th>\n",
       "      <td>780.000000</td>\n",
       "      <td>780.000000</td>\n",
       "      <td>780.000000</td>\n",
       "    </tr>\n",
       "    <tr>\n",
       "      <th>mean</th>\n",
       "      <td>22.729487</td>\n",
       "      <td>91.293590</td>\n",
       "      <td>2.931192</td>\n",
       "    </tr>\n",
       "    <tr>\n",
       "      <th>std</th>\n",
       "      <td>6.930604</td>\n",
       "      <td>52.707537</td>\n",
       "      <td>1.115780</td>\n",
       "    </tr>\n",
       "    <tr>\n",
       "      <th>min</th>\n",
       "      <td>7.000000</td>\n",
       "      <td>0.000000</td>\n",
       "      <td>1.030000</td>\n",
       "    </tr>\n",
       "    <tr>\n",
       "      <th>25%</th>\n",
       "      <td>19.000000</td>\n",
       "      <td>44.000000</td>\n",
       "      <td>1.960000</td>\n",
       "    </tr>\n",
       "    <tr>\n",
       "      <th>50%</th>\n",
       "      <td>22.000000</td>\n",
       "      <td>91.000000</td>\n",
       "      <td>2.880000</td>\n",
       "    </tr>\n",
       "    <tr>\n",
       "      <th>75%</th>\n",
       "      <td>25.000000</td>\n",
       "      <td>135.000000</td>\n",
       "      <td>3.910000</td>\n",
       "    </tr>\n",
       "    <tr>\n",
       "      <th>max</th>\n",
       "      <td>45.000000</td>\n",
       "      <td>183.000000</td>\n",
       "      <td>4.950000</td>\n",
       "    </tr>\n",
       "  </tbody>\n",
       "</table>\n",
       "</div>"
      ],
      "text/plain": [
       "              Age     Item ID       Price\n",
       "count  780.000000  780.000000  780.000000\n",
       "mean    22.729487   91.293590    2.931192\n",
       "std      6.930604   52.707537    1.115780\n",
       "min      7.000000    0.000000    1.030000\n",
       "25%     19.000000   44.000000    1.960000\n",
       "50%     22.000000   91.000000    2.880000\n",
       "75%     25.000000  135.000000    3.910000\n",
       "max     45.000000  183.000000    4.950000"
      ]
     },
     "execution_count": 33,
     "metadata": {},
     "output_type": "execute_result"
    }
   ],
   "source": [
    "purchase_data_df.describe()"
   ]
  },
  {
   "cell_type": "code",
   "execution_count": 34,
   "metadata": {},
   "outputs": [
    {
     "data": {
      "text/plain": [
       "Index(['Age', 'Gender', 'Item ID', 'Item Name', 'Price', 'SN'], dtype='object')"
      ]
     },
     "execution_count": 34,
     "metadata": {},
     "output_type": "execute_result"
    }
   ],
   "source": [
    "purchase_data_df.columns"
   ]
  },
  {
   "cell_type": "code",
   "execution_count": 42,
   "metadata": {},
   "outputs": [
    {
     "name": "stdout",
     "output_type": "stream",
     "text": [
      "Player Count: 573\n"
     ]
    }
   ],
   "source": [
    "#player count, total # of players\n",
    "players_df=len(purchase_data_df[\"SN\"].value_counts())\n",
    "print (\"Player Count:\", players_df)"
   ]
  },
  {
   "cell_type": "code",
   "execution_count": 36,
   "metadata": {
    "scrolled": true
   },
   "outputs": [
    {
     "name": "stdout",
     "output_type": "stream",
     "text": [
      "Unique items: 183\n"
     ]
    }
   ],
   "source": [
    "#purchasing analysis: # of unique items, total revenue\n",
    "unique_items= purchase_data_df[\"Item ID\"].unique()\n",
    "unique_items=len(purchase_data_df[\"Item ID\"].value_counts())\n",
    "print (\"Unique items:\", unique_items)"
   ]
  },
  {
   "cell_type": "code",
   "execution_count": 37,
   "metadata": {},
   "outputs": [
    {
     "name": "stdout",
     "output_type": "stream",
     "text": [
      "Average item price: 2.931192307692303\n"
     ]
    }
   ],
   "source": [
    "#purchasing analysis: average purchasing price \n",
    "average_item_price= purchase_data_df[\"Price\"].mean()\n",
    "print (\"Average item price:\", average_item_price)"
   ]
  },
  {
   "cell_type": "code",
   "execution_count": 38,
   "metadata": {},
   "outputs": [
    {
     "name": "stdout",
     "output_type": "stream",
     "text": [
      "Total # of purchases: 780\n"
     ]
    }
   ],
   "source": [
    "#purchasing analysis: total # of purchases\n",
    "transactions = purchase_data_df[\"SN\"].count()\n",
    "print(\"Total # of purchases:\", transactions)"
   ]
  },
  {
   "cell_type": "code",
   "execution_count": 39,
   "metadata": {},
   "outputs": [
    {
     "name": "stdout",
     "output_type": "stream",
     "text": [
      "Total Revenue 2286.3299999999963\n"
     ]
    }
   ],
   "source": [
    "#purchasing analysis: total revenue\n",
    "total_sales= purchase_data_df[\"Price\"].sum()\n",
    "print(\"Total Revenue\", total_sales)"
   ]
  },
  {
   "cell_type": "code",
   "execution_count": 40,
   "metadata": {},
   "outputs": [
    {
     "name": "stdout",
     "output_type": "stream",
     "text": [
      "Male players: 465\n",
      "Female players: 100\n",
      "Non Dislosed: 8\n",
      "% Male players: 81.15183246073299\n",
      "% Female players: 17.452006980802793\n",
      "% Non-Disclosed: 1.3961605584642234\n"
     ]
    }
   ],
   "source": [
    "#remove duplicated players\n",
    "gender_df = purchase_data_df.drop_duplicates(['SN'], keep ='last')\n",
    "\n",
    "# Determine the number of male, female, and other players\n",
    "male_players_df= gender_df[gender_df['Gender']=='Male']\n",
    "male_players= len(male_players_df)\n",
    "female_players_df= gender_df[gender_df['Gender']=='Female']\n",
    "female_players= len(female_players_df)\n",
    "other_players_df= gender_df[gender_df['Gender']=='Other / Non-Disclosed']\n",
    "other_players= len(other_players_df)\n",
    "all_players = male_players+female_players+other_players\n",
    "\n",
    "print ('Male players:', male_players)\n",
    "print ('Female players:', female_players)\n",
    "print ('Non Dislosed:', other_players) \n",
    "\n",
    "male_percent = ((male_players/all_players)*100)\n",
    "female_percent = ((female_players/all_players)*100)\n",
    "other_percent = ((other_players/all_players)*100)\n",
    "\n",
    "print ('% Male players:', male_percent)\n",
    "print ('% Female players:', female_percent)\n",
    "print ('% Non-Disclosed:', other_percent)"
   ]
  },
  {
   "cell_type": "code",
   "execution_count": 52,
   "metadata": {},
   "outputs": [
    {
     "data": {
      "text/html": [
       "<style  type=\"text/css\" >\n",
       "</style>  \n",
       "<table id=\"T_10ebcc9c_1c1c_11e8_8fbf_409f380a19a6\" > \n",
       "<thead>    <tr> \n",
       "        <th class=\"blank level0\" ></th> \n",
       "        <th class=\"col_heading level0 col0\" >Gender</th> \n",
       "        <th class=\"col_heading level0 col1\" >Percentage of Players</th> \n",
       "        <th class=\"col_heading level0 col2\" >Total Count</th> \n",
       "    </tr></thead> \n",
       "<tbody>    <tr> \n",
       "        <th id=\"T_10ebcc9c_1c1c_11e8_8fbf_409f380a19a6level0_row0\" class=\"row_heading level0 row0\" >0</th> \n",
       "        <td id=\"T_10ebcc9c_1c1c_11e8_8fbf_409f380a19a6row0_col0\" class=\"data row0 col0\" >Male</td> \n",
       "        <td id=\"T_10ebcc9c_1c1c_11e8_8fbf_409f380a19a6row0_col1\" class=\"data row0 col1\" >81.15%</td> \n",
       "        <td id=\"T_10ebcc9c_1c1c_11e8_8fbf_409f380a19a6row0_col2\" class=\"data row0 col2\" >465</td> \n",
       "    </tr>    <tr> \n",
       "        <th id=\"T_10ebcc9c_1c1c_11e8_8fbf_409f380a19a6level0_row1\" class=\"row_heading level0 row1\" >1</th> \n",
       "        <td id=\"T_10ebcc9c_1c1c_11e8_8fbf_409f380a19a6row1_col0\" class=\"data row1 col0\" >Female</td> \n",
       "        <td id=\"T_10ebcc9c_1c1c_11e8_8fbf_409f380a19a6row1_col1\" class=\"data row1 col1\" >17.45%</td> \n",
       "        <td id=\"T_10ebcc9c_1c1c_11e8_8fbf_409f380a19a6row1_col2\" class=\"data row1 col2\" >100</td> \n",
       "    </tr>    <tr> \n",
       "        <th id=\"T_10ebcc9c_1c1c_11e8_8fbf_409f380a19a6level0_row2\" class=\"row_heading level0 row2\" >2</th> \n",
       "        <td id=\"T_10ebcc9c_1c1c_11e8_8fbf_409f380a19a6row2_col0\" class=\"data row2 col0\" >Other / Non-Disclosed</td> \n",
       "        <td id=\"T_10ebcc9c_1c1c_11e8_8fbf_409f380a19a6row2_col1\" class=\"data row2 col1\" >1.40%</td> \n",
       "        <td id=\"T_10ebcc9c_1c1c_11e8_8fbf_409f380a19a6row2_col2\" class=\"data row2 col2\" >8</td> \n",
       "    </tr></tbody> \n",
       "</table> "
      ],
      "text/plain": [
       "<pandas.io.formats.style.Styler at 0x1b3b0aac320>"
      ]
     },
     "execution_count": 52,
     "metadata": {},
     "output_type": "execute_result"
    }
   ],
   "source": [
    "#shown as dataframe \n",
    "gender_breakdown=pd.DataFrame({\"Gender\": [\"Male\", \"Female\", \"Other / Non-Disclosed\"], \\\n",
    "                               \"Percentage of Players\": [male_percent, female_percent, other_percent], \\\n",
    "                               \"Total Count\": [male_players, female_players, other_players]}, \\\n",
    "                              columns = [\"Gender\", \"Percentage of Players\", \"Total Count\"])\n",
    "gender_breakdown.style.format({\"Percentage of Players\": \"{:.2f}%\"})       "
   ]
  },
  {
   "cell_type": "code",
   "execution_count": 60,
   "metadata": {},
   "outputs": [
    {
     "data": {
      "text/html": [
       "<style  type=\"text/css\" >\n",
       "</style>  \n",
       "<table id=\"T_f60e385a_1c20_11e8_8be5_409f380a19a6\" > \n",
       "<thead>    <tr> \n",
       "        <th class=\"blank level0\" ></th> \n",
       "        <th class=\"col_heading level0 col0\" >Gender</th> \n",
       "        <th class=\"col_heading level0 col1\" >Purchasing Count</th> \n",
       "        <th class=\"col_heading level0 col2\" >Average Purchase Price</th> \n",
       "        <th class=\"col_heading level0 col3\" >Total Purchase Value</th> \n",
       "        <th class=\"col_heading level0 col4\" >Normalized Totals</th> \n",
       "    </tr></thead> \n",
       "<tbody>    <tr> \n",
       "        <th id=\"T_f60e385a_1c20_11e8_8be5_409f380a19a6level0_row0\" class=\"row_heading level0 row0\" >0</th> \n",
       "        <td id=\"T_f60e385a_1c20_11e8_8be5_409f380a19a6row0_col0\" class=\"data row0 col0\" >Male</td> \n",
       "        <td id=\"T_f60e385a_1c20_11e8_8be5_409f380a19a6row0_col1\" class=\"data row0 col1\" >633</td> \n",
       "        <td id=\"T_f60e385a_1c20_11e8_8be5_409f380a19a6row0_col2\" class=\"data row0 col2\" >$2.95</td> \n",
       "        <td id=\"T_f60e385a_1c20_11e8_8be5_409f380a19a6row0_col3\" class=\"data row0 col3\" >$1867.68</td> \n",
       "        <td id=\"T_f60e385a_1c20_11e8_8be5_409f380a19a6row0_col4\" class=\"data row0 col4\" >$4.02</td> \n",
       "    </tr>    <tr> \n",
       "        <th id=\"T_f60e385a_1c20_11e8_8be5_409f380a19a6level0_row1\" class=\"row_heading level0 row1\" >1</th> \n",
       "        <td id=\"T_f60e385a_1c20_11e8_8be5_409f380a19a6row1_col0\" class=\"data row1 col0\" >Female</td> \n",
       "        <td id=\"T_f60e385a_1c20_11e8_8be5_409f380a19a6row1_col1\" class=\"data row1 col1\" >136</td> \n",
       "        <td id=\"T_f60e385a_1c20_11e8_8be5_409f380a19a6row1_col2\" class=\"data row1 col2\" >$2.82</td> \n",
       "        <td id=\"T_f60e385a_1c20_11e8_8be5_409f380a19a6row1_col3\" class=\"data row1 col3\" >$382.91</td> \n",
       "        <td id=\"T_f60e385a_1c20_11e8_8be5_409f380a19a6row1_col4\" class=\"data row1 col4\" >$3.83</td> \n",
       "    </tr>    <tr> \n",
       "        <th id=\"T_f60e385a_1c20_11e8_8be5_409f380a19a6level0_row2\" class=\"row_heading level0 row2\" >2</th> \n",
       "        <td id=\"T_f60e385a_1c20_11e8_8be5_409f380a19a6row2_col0\" class=\"data row2 col0\" >Other / Non-Disclosed</td> \n",
       "        <td id=\"T_f60e385a_1c20_11e8_8be5_409f380a19a6row2_col1\" class=\"data row2 col1\" >0</td> \n",
       "        <td id=\"T_f60e385a_1c20_11e8_8be5_409f380a19a6row2_col2\" class=\"data row2 col2\" >$nan</td> \n",
       "        <td id=\"T_f60e385a_1c20_11e8_8be5_409f380a19a6row2_col3\" class=\"data row2 col3\" >$0.00</td> \n",
       "        <td id=\"T_f60e385a_1c20_11e8_8be5_409f380a19a6row2_col4\" class=\"data row2 col4\" >$0.00</td> \n",
       "    </tr></tbody> \n",
       "</table> "
      ],
      "text/plain": [
       "<pandas.io.formats.style.Styler at 0x1b3b151cd30>"
      ]
     },
     "execution_count": 60,
     "metadata": {},
     "output_type": "execute_result"
    }
   ],
   "source": [
    "#purchasing analysis(gender) broken down by gender: purchasing count, average purchase price,\n",
    "#total purchase value, normalized totals \n",
    "#show as dataframe \n",
    "\n",
    "male_pc= purchase_data_df[purchase_data_df[\"Gender\"] == \"Male\"] [\"Price\"].count()\n",
    "female_pc= purchase_data_df[purchase_data_df[\"Gender\"] == \"Female\"] [\"Price\"].count()\n",
    "other_pc= purchase_data_df[purchase_data_df[\"Gender\"] == \"Other\"] [\"Price\"].count()\n",
    "male_avgpp= purchase_data_df[purchase_data_df[\"Gender\"] == \"Male\"] [\"Price\"].mean()\n",
    "female_avgpp= purchase_data_df[purchase_data_df[\"Gender\"] == \"Female\"] [\"Price\"].mean()\n",
    "other_avgpp= purchase_data_df[purchase_data_df[\"Gender\"] == \"Other\"] [\"Price\"].mean()\n",
    "male_tpv= purchase_data_df[purchase_data_df[\"Gender\"] == \"Male\"] [\"Price\"].sum()\n",
    "female_tpv= purchase_data_df[purchase_data_df[\"Gender\"] == \"Female\"] [\"Price\"].sum()\n",
    "other_tpv= purchase_data_df[purchase_data_df[\"Gender\"] == \"Other\"] [\"Price\"].sum()\n",
    "male_normal= male_tpv/male_players\n",
    "female_normal= female_tpv/female_players\n",
    "other_normal= other_tpv/other_players\n",
    "\n",
    "purchasing_analysis=pd.DataFrame({\"Gender\": [\"Male\", \"Female\", \"Other / Non-Disclosed\"],\\\n",
    "                               \"Purchasing Count\": [male_pc, female_pc, other_pc],\\\n",
    "                               \"Average Purchase Price\": [male_avgpp, female_avgpp, other_avgpp],\\\n",
    "                                 \"Total Purchase Value\": [male_tpv, female_tpv, other_tpv],\\\n",
    "                                  \"Normalized Totals\": [male_normal, female_normal, other_normal]}, \\\n",
    "                              columns = [\"Gender\", \"Purchasing Count\", \"Average Purchase Price\", \"Total Purchase Value\", \\\n",
    "                                        \"Normalized Totals\"])\n",
    "purchasing_analysis.style.format({\"Average Purchase Price\": \"${:.2f}\", \"Total Purchase Value\": \"${:.2f}\", \"Normalized Totals\": \"${:.2f}\"})"
   ]
  },
  {
   "cell_type": "code",
   "execution_count": 93,
   "metadata": {},
   "outputs": [
    {
     "data": {
      "text/plain": [
       "<pandas.core.groupby.DataFrameGroupBy object at 0x000001B3B1609208>"
      ]
     },
     "execution_count": 93,
     "metadata": {},
     "output_type": "execute_result"
    }
   ],
   "source": [
    "purchase_data_df"
   ]
  },
  {
   "cell_type": "code",
   "execution_count": 103,
   "metadata": {},
   "outputs": [],
   "source": [
    "#age demographics broken into bins by years i.e. <10, 10-14, 15-19 etc.\n",
    "bins = [0,10, 20, 30, 40, 45]\n",
    "bin_labels = [\"<10 years\",\"11-20 years\",\"21-30 years\",\"31-40 years\",\"41 and older\"]"
   ]
  },
  {
   "cell_type": "code",
   "execution_count": 106,
   "metadata": {},
   "outputs": [
    {
     "ename": "ValueError",
     "evalue": "setting an array element with a sequence.",
     "output_type": "error",
     "traceback": [
      "\u001b[1;31m---------------------------------------------------------------------------\u001b[0m",
      "\u001b[1;31mValueError\u001b[0m                                Traceback (most recent call last)",
      "\u001b[1;32m<ipython-input-106-cfeb32608011>\u001b[0m in \u001b[0;36m<module>\u001b[1;34m()\u001b[0m\n\u001b[1;32m----> 1\u001b[1;33m \u001b[0mpd\u001b[0m\u001b[1;33m.\u001b[0m\u001b[0mcut\u001b[0m\u001b[1;33m(\u001b[0m\u001b[0mpurchase_data_df\u001b[0m\u001b[1;33m[\u001b[0m\u001b[1;34m\"Age\"\u001b[0m\u001b[1;33m]\u001b[0m\u001b[1;33m,\u001b[0m \u001b[0mbins\u001b[0m\u001b[1;33m,\u001b[0m \u001b[0mlabels\u001b[0m\u001b[1;33m=\u001b[0m\u001b[0mbin_labels\u001b[0m\u001b[1;33m)\u001b[0m\u001b[1;33m\u001b[0m\u001b[0m\n\u001b[0m",
      "\u001b[1;32m~\\Anaconda3\\lib\\site-packages\\pandas\\core\\reshape\\tile.py\u001b[0m in \u001b[0;36mcut\u001b[1;34m(x, bins, right, labels, retbins, precision, include_lowest)\u001b[0m\n\u001b[0;32m     92\u001b[0m \u001b[1;33m\u001b[0m\u001b[0m\n\u001b[0;32m     93\u001b[0m     \u001b[1;31m# for handling the cut for datetime and timedelta objects\u001b[0m\u001b[1;33m\u001b[0m\u001b[1;33m\u001b[0m\u001b[0m\n\u001b[1;32m---> 94\u001b[1;33m     \u001b[0mx_is_series\u001b[0m\u001b[1;33m,\u001b[0m \u001b[0mseries_index\u001b[0m\u001b[1;33m,\u001b[0m \u001b[0mname\u001b[0m\u001b[1;33m,\u001b[0m \u001b[0mx\u001b[0m \u001b[1;33m=\u001b[0m \u001b[0m_preprocess_for_cut\u001b[0m\u001b[1;33m(\u001b[0m\u001b[0mx\u001b[0m\u001b[1;33m)\u001b[0m\u001b[1;33m\u001b[0m\u001b[0m\n\u001b[0m\u001b[0;32m     95\u001b[0m     \u001b[0mx\u001b[0m\u001b[1;33m,\u001b[0m \u001b[0mdtype\u001b[0m \u001b[1;33m=\u001b[0m \u001b[0m_coerce_to_type\u001b[0m\u001b[1;33m(\u001b[0m\u001b[0mx\u001b[0m\u001b[1;33m)\u001b[0m\u001b[1;33m\u001b[0m\u001b[0m\n\u001b[0;32m     96\u001b[0m \u001b[1;33m\u001b[0m\u001b[0m\n",
      "\u001b[1;32m~\\Anaconda3\\lib\\site-packages\\pandas\\core\\reshape\\tile.py\u001b[0m in \u001b[0;36m_preprocess_for_cut\u001b[1;34m(x)\u001b[0m\n\u001b[0;32m    368\u001b[0m         \u001b[0mname\u001b[0m \u001b[1;33m=\u001b[0m \u001b[0mx\u001b[0m\u001b[1;33m.\u001b[0m\u001b[0mname\u001b[0m\u001b[1;33m\u001b[0m\u001b[0m\n\u001b[0;32m    369\u001b[0m \u001b[1;33m\u001b[0m\u001b[0m\n\u001b[1;32m--> 370\u001b[1;33m     \u001b[0mx\u001b[0m \u001b[1;33m=\u001b[0m \u001b[0mnp\u001b[0m\u001b[1;33m.\u001b[0m\u001b[0masarray\u001b[0m\u001b[1;33m(\u001b[0m\u001b[0mx\u001b[0m\u001b[1;33m)\u001b[0m\u001b[1;33m\u001b[0m\u001b[0m\n\u001b[0m\u001b[0;32m    371\u001b[0m \u001b[1;33m\u001b[0m\u001b[0m\n\u001b[0;32m    372\u001b[0m     \u001b[1;32mreturn\u001b[0m \u001b[0mx_is_series\u001b[0m\u001b[1;33m,\u001b[0m \u001b[0mseries_index\u001b[0m\u001b[1;33m,\u001b[0m \u001b[0mname\u001b[0m\u001b[1;33m,\u001b[0m \u001b[0mx\u001b[0m\u001b[1;33m\u001b[0m\u001b[0m\n",
      "\u001b[1;32m~\\Anaconda3\\lib\\site-packages\\numpy\\core\\numeric.py\u001b[0m in \u001b[0;36masarray\u001b[1;34m(a, dtype, order)\u001b[0m\n\u001b[0;32m    529\u001b[0m \u001b[1;33m\u001b[0m\u001b[0m\n\u001b[0;32m    530\u001b[0m     \"\"\"\n\u001b[1;32m--> 531\u001b[1;33m     \u001b[1;32mreturn\u001b[0m \u001b[0marray\u001b[0m\u001b[1;33m(\u001b[0m\u001b[0ma\u001b[0m\u001b[1;33m,\u001b[0m \u001b[0mdtype\u001b[0m\u001b[1;33m,\u001b[0m \u001b[0mcopy\u001b[0m\u001b[1;33m=\u001b[0m\u001b[1;32mFalse\u001b[0m\u001b[1;33m,\u001b[0m \u001b[0morder\u001b[0m\u001b[1;33m=\u001b[0m\u001b[0morder\u001b[0m\u001b[1;33m)\u001b[0m\u001b[1;33m\u001b[0m\u001b[0m\n\u001b[0m\u001b[0;32m    532\u001b[0m \u001b[1;33m\u001b[0m\u001b[0m\n\u001b[0;32m    533\u001b[0m \u001b[1;33m\u001b[0m\u001b[0m\n",
      "\u001b[1;31mValueError\u001b[0m: setting an array element with a sequence."
     ]
    }
   ],
   "source": [
    "#pd.cut(purchase_data_df[\"Age\"], bins, labels=bin_labels)\n",
    "\n",
    "#this is where I am getting stuck "
   ]
  },
  {
   "cell_type": "code",
   "execution_count": null,
   "metadata": {
    "collapsed": true
   },
   "outputs": [],
   "source": [
    " #Then pull purchase count, average purchase price, total purchase value, normalized totals "
   ]
  },
  {
   "cell_type": "code",
   "execution_count": null,
   "metadata": {
    "collapsed": true
   },
   "outputs": [],
   "source": [
    "#pull top 5 spenders in the game by total purchase value then list in a table. Identify: SN, Purchase count \n",
    "#average purchase price, total purchase value "
   ]
  },
  {
   "cell_type": "code",
   "execution_count": null,
   "metadata": {
    "collapsed": true
   },
   "outputs": [],
   "source": [
    "#pull top 5 most popular items by purchase count then list in a table. Identify: Item ID, Item name, \n",
    "#purchase count, item price, total purchase value"
   ]
  },
  {
   "cell_type": "code",
   "execution_count": null,
   "metadata": {
    "collapsed": true
   },
   "outputs": [],
   "source": [
    "#pull top 5 most profitable items by purchase count then list in a table. Identify: Item ID, Item name, \n",
    "#purchase count, item price, total purchase value"
   ]
  },
  {
   "cell_type": "code",
   "execution_count": null,
   "metadata": {
    "collapsed": true
   },
   "outputs": [],
   "source": []
  },
  {
   "cell_type": "code",
   "execution_count": null,
   "metadata": {
    "collapsed": true
   },
   "outputs": [],
   "source": []
  },
  {
   "cell_type": "code",
   "execution_count": null,
   "metadata": {
    "collapsed": true
   },
   "outputs": [],
   "source": []
  }
 ],
 "metadata": {
  "kernelspec": {
   "display_name": "Python 3",
   "language": "python",
   "name": "python3"
  },
  "language_info": {
   "codemirror_mode": {
    "name": "ipython",
    "version": 3
   },
   "file_extension": ".py",
   "mimetype": "text/x-python",
   "name": "python",
   "nbconvert_exporter": "python",
   "pygments_lexer": "ipython3",
   "version": "3.6.3"
  }
 },
 "nbformat": 4,
 "nbformat_minor": 2
}
